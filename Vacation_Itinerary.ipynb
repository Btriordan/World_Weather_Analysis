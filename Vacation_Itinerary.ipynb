{
 "cells": [
  {
   "cell_type": "code",
   "execution_count": 1,
   "metadata": {},
   "outputs": [],
   "source": [
    "# Import the dependencies.\n",
    "import pandas as pd\n",
    "import matplotlib.pyplot as plt\n",
    "import numpy as np\n",
    "# Use the citipy module to determine city based on latitude and longitude.\n",
    "from citipy import citipy\n",
    "# Import the requests library.\n",
    "import requests\n",
    "\n",
    "# IMport the API key\n",
    "from config import weather_api_key\n",
    "from config import g_key\n",
    "import gmaps"
   ]
  },
  {
   "cell_type": "code",
   "execution_count": 3,
   "metadata": {},
   "outputs": [
    {
     "data": {
      "text/html": [
       "<div>\n",
       "<style scoped>\n",
       "    .dataframe tbody tr th:only-of-type {\n",
       "        vertical-align: middle;\n",
       "    }\n",
       "\n",
       "    .dataframe tbody tr th {\n",
       "        vertical-align: top;\n",
       "    }\n",
       "\n",
       "    .dataframe thead th {\n",
       "        text-align: right;\n",
       "    }\n",
       "</style>\n",
       "<table border=\"1\" class=\"dataframe\">\n",
       "  <thead>\n",
       "    <tr style=\"text-align: right;\">\n",
       "      <th></th>\n",
       "      <th>City_ID</th>\n",
       "      <th>City</th>\n",
       "      <th>Country</th>\n",
       "      <th>Weather Description</th>\n",
       "      <th>Max Temp</th>\n",
       "      <th>Lat</th>\n",
       "      <th>Lng</th>\n",
       "      <th>Hotel Name</th>\n",
       "    </tr>\n",
       "  </thead>\n",
       "  <tbody>\n",
       "    <tr>\n",
       "      <th>0</th>\n",
       "      <td>3</td>\n",
       "      <td>Hilo</td>\n",
       "      <td>US</td>\n",
       "      <td>clear sky</td>\n",
       "      <td>75.20</td>\n",
       "      <td>19.73</td>\n",
       "      <td>-155.09</td>\n",
       "      <td>Hilo Hawaiian Hotel</td>\n",
       "    </tr>\n",
       "    <tr>\n",
       "      <th>1</th>\n",
       "      <td>4</td>\n",
       "      <td>Vaini</td>\n",
       "      <td>TO</td>\n",
       "      <td>few clouds</td>\n",
       "      <td>77.00</td>\n",
       "      <td>-21.20</td>\n",
       "      <td>-175.20</td>\n",
       "      <td>Keleti Beach Resort</td>\n",
       "    </tr>\n",
       "    <tr>\n",
       "      <th>2</th>\n",
       "      <td>10</td>\n",
       "      <td>Kahului</td>\n",
       "      <td>US</td>\n",
       "      <td>few clouds</td>\n",
       "      <td>75.20</td>\n",
       "      <td>20.89</td>\n",
       "      <td>-156.47</td>\n",
       "      <td>Maui Seaside Hotel</td>\n",
       "    </tr>\n",
       "    <tr>\n",
       "      <th>3</th>\n",
       "      <td>11</td>\n",
       "      <td>Garowe</td>\n",
       "      <td>SO</td>\n",
       "      <td>scattered clouds</td>\n",
       "      <td>81.55</td>\n",
       "      <td>8.41</td>\n",
       "      <td>48.48</td>\n",
       "      <td>Curubo Hotel</td>\n",
       "    </tr>\n",
       "    <tr>\n",
       "      <th>4</th>\n",
       "      <td>12</td>\n",
       "      <td>Kapaa</td>\n",
       "      <td>US</td>\n",
       "      <td>few clouds</td>\n",
       "      <td>77.00</td>\n",
       "      <td>22.08</td>\n",
       "      <td>-159.32</td>\n",
       "      <td>Sheraton Kauai Resort at Coconut Beach</td>\n",
       "    </tr>\n",
       "  </tbody>\n",
       "</table>\n",
       "</div>"
      ],
      "text/plain": [
       "   City_ID     City Country Weather Description  Max Temp    Lat     Lng  \\\n",
       "0        3     Hilo      US           clear sky     75.20  19.73 -155.09   \n",
       "1        4    Vaini      TO          few clouds     77.00 -21.20 -175.20   \n",
       "2       10  Kahului      US          few clouds     75.20  20.89 -156.47   \n",
       "3       11   Garowe      SO    scattered clouds     81.55   8.41   48.48   \n",
       "4       12    Kapaa      US          few clouds     77.00  22.08 -159.32   \n",
       "\n",
       "                               Hotel Name  \n",
       "0                     Hilo Hawaiian Hotel  \n",
       "1                     Keleti Beach Resort  \n",
       "2                      Maui Seaside Hotel  \n",
       "3                            Curubo Hotel  \n",
       "4  Sheraton Kauai Resort at Coconut Beach  "
      ]
     },
     "execution_count": 3,
     "metadata": {},
     "output_type": "execute_result"
    }
   ],
   "source": [
    "# Store the CSV you saved created in part one into a DataFrame\n",
    "city_data_df = pd.read_csv(\"weather_data/WeatherPy_vacation.csv\")\n",
    "city_data_df.head()"
   ]
  },
  {
   "cell_type": "code",
   "execution_count": 4,
   "metadata": {},
   "outputs": [],
   "source": [
    "# Create separate DataFrames for each city\n",
    "yarada_data = city_data_df.loc[city_data_df['City'] == 'Yarada']\n",
    "narasannapeta_data = city_data_df.loc[city_data_df['City'] == 'Narasannapeta']\n",
    "tarabha_data = city_data_df.loc[city_data_df['City'] == 'Tarabha']\n",
    "angul_data = city_data_df.loc[city_data_df['City'] == 'Angul']"
   ]
  },
  {
   "cell_type": "code",
   "execution_count": 5,
   "metadata": {},
   "outputs": [
    {
     "data": {
      "text/html": [
       "<div>\n",
       "<style scoped>\n",
       "    .dataframe tbody tr th:only-of-type {\n",
       "        vertical-align: middle;\n",
       "    }\n",
       "\n",
       "    .dataframe tbody tr th {\n",
       "        vertical-align: top;\n",
       "    }\n",
       "\n",
       "    .dataframe thead th {\n",
       "        text-align: right;\n",
       "    }\n",
       "</style>\n",
       "<table border=\"1\" class=\"dataframe\">\n",
       "  <thead>\n",
       "    <tr style=\"text-align: right;\">\n",
       "      <th></th>\n",
       "      <th>City_ID</th>\n",
       "      <th>City</th>\n",
       "      <th>Country</th>\n",
       "      <th>Weather Description</th>\n",
       "      <th>Max Temp</th>\n",
       "      <th>Lat</th>\n",
       "      <th>Lng</th>\n",
       "      <th>Hotel Name</th>\n",
       "    </tr>\n",
       "  </thead>\n",
       "  <tbody>\n",
       "    <tr>\n",
       "      <th>97</th>\n",
       "      <td>385</td>\n",
       "      <td>Yarada</td>\n",
       "      <td>IN</td>\n",
       "      <td>broken clouds</td>\n",
       "      <td>84.2</td>\n",
       "      <td>17.65</td>\n",
       "      <td>83.27</td>\n",
       "      <td>D-26/2, Dolphin Hill,</td>\n",
       "    </tr>\n",
       "  </tbody>\n",
       "</table>\n",
       "</div>"
      ],
      "text/plain": [
       "    City_ID    City Country Weather Description  Max Temp    Lat    Lng  \\\n",
       "97      385  Yarada      IN       broken clouds      84.2  17.65  83.27   \n",
       "\n",
       "               Hotel Name  \n",
       "97  D-26/2, Dolphin Hill,  "
      ]
     },
     "execution_count": 5,
     "metadata": {},
     "output_type": "execute_result"
    }
   ],
   "source": [
    "yarada_data"
   ]
  },
  {
   "cell_type": "code",
   "execution_count": 6,
   "metadata": {},
   "outputs": [
    {
     "data": {
      "text/html": [
       "<div>\n",
       "<style scoped>\n",
       "    .dataframe tbody tr th:only-of-type {\n",
       "        vertical-align: middle;\n",
       "    }\n",
       "\n",
       "    .dataframe tbody tr th {\n",
       "        vertical-align: top;\n",
       "    }\n",
       "\n",
       "    .dataframe thead th {\n",
       "        text-align: right;\n",
       "    }\n",
       "</style>\n",
       "<table border=\"1\" class=\"dataframe\">\n",
       "  <thead>\n",
       "    <tr style=\"text-align: right;\">\n",
       "      <th></th>\n",
       "      <th>City_ID</th>\n",
       "      <th>City</th>\n",
       "      <th>Country</th>\n",
       "      <th>Weather Description</th>\n",
       "      <th>Max Temp</th>\n",
       "      <th>Lat</th>\n",
       "      <th>Lng</th>\n",
       "      <th>Hotel Name</th>\n",
       "    </tr>\n",
       "  </thead>\n",
       "  <tbody>\n",
       "    <tr>\n",
       "      <th>126</th>\n",
       "      <td>510</td>\n",
       "      <td>Narasannapeta</td>\n",
       "      <td>IN</td>\n",
       "      <td>scattered clouds</td>\n",
       "      <td>81.1</td>\n",
       "      <td>18.42</td>\n",
       "      <td>84.05</td>\n",
       "      <td>G.lingaraju home</td>\n",
       "    </tr>\n",
       "  </tbody>\n",
       "</table>\n",
       "</div>"
      ],
      "text/plain": [
       "     City_ID           City Country Weather Description  Max Temp    Lat  \\\n",
       "126      510  Narasannapeta      IN    scattered clouds      81.1  18.42   \n",
       "\n",
       "       Lng        Hotel Name  \n",
       "126  84.05  G.lingaraju home  "
      ]
     },
     "execution_count": 6,
     "metadata": {},
     "output_type": "execute_result"
    }
   ],
   "source": [
    "narasannapeta_data"
   ]
  },
  {
   "cell_type": "code",
   "execution_count": 7,
   "metadata": {},
   "outputs": [
    {
     "data": {
      "text/html": [
       "<div>\n",
       "<style scoped>\n",
       "    .dataframe tbody tr th:only-of-type {\n",
       "        vertical-align: middle;\n",
       "    }\n",
       "\n",
       "    .dataframe tbody tr th {\n",
       "        vertical-align: top;\n",
       "    }\n",
       "\n",
       "    .dataframe thead th {\n",
       "        text-align: right;\n",
       "    }\n",
       "</style>\n",
       "<table border=\"1\" class=\"dataframe\">\n",
       "  <thead>\n",
       "    <tr style=\"text-align: right;\">\n",
       "      <th></th>\n",
       "      <th>City_ID</th>\n",
       "      <th>City</th>\n",
       "      <th>Country</th>\n",
       "      <th>Weather Description</th>\n",
       "      <th>Max Temp</th>\n",
       "      <th>Lat</th>\n",
       "      <th>Lng</th>\n",
       "      <th>Hotel Name</th>\n",
       "    </tr>\n",
       "  </thead>\n",
       "  <tbody>\n",
       "    <tr>\n",
       "      <th>127</th>\n",
       "      <td>511</td>\n",
       "      <td>Tarabha</td>\n",
       "      <td>IN</td>\n",
       "      <td>few clouds</td>\n",
       "      <td>86.16</td>\n",
       "      <td>20.73</td>\n",
       "      <td>83.65</td>\n",
       "      <td>tulapada full</td>\n",
       "    </tr>\n",
       "  </tbody>\n",
       "</table>\n",
       "</div>"
      ],
      "text/plain": [
       "     City_ID     City Country Weather Description  Max Temp    Lat    Lng  \\\n",
       "127      511  Tarabha      IN          few clouds     86.16  20.73  83.65   \n",
       "\n",
       "        Hotel Name  \n",
       "127  tulapada full  "
      ]
     },
     "execution_count": 7,
     "metadata": {},
     "output_type": "execute_result"
    }
   ],
   "source": [
    "tarabha_data"
   ]
  },
  {
   "cell_type": "code",
   "execution_count": 8,
   "metadata": {},
   "outputs": [
    {
     "data": {
      "text/html": [
       "<div>\n",
       "<style scoped>\n",
       "    .dataframe tbody tr th:only-of-type {\n",
       "        vertical-align: middle;\n",
       "    }\n",
       "\n",
       "    .dataframe tbody tr th {\n",
       "        vertical-align: top;\n",
       "    }\n",
       "\n",
       "    .dataframe thead th {\n",
       "        text-align: right;\n",
       "    }\n",
       "</style>\n",
       "<table border=\"1\" class=\"dataframe\">\n",
       "  <thead>\n",
       "    <tr style=\"text-align: right;\">\n",
       "      <th></th>\n",
       "      <th>City_ID</th>\n",
       "      <th>City</th>\n",
       "      <th>Country</th>\n",
       "      <th>Weather Description</th>\n",
       "      <th>Max Temp</th>\n",
       "      <th>Lat</th>\n",
       "      <th>Lng</th>\n",
       "      <th>Hotel Name</th>\n",
       "    </tr>\n",
       "  </thead>\n",
       "  <tbody>\n",
       "    <tr>\n",
       "      <th>129</th>\n",
       "      <td>515</td>\n",
       "      <td>Angul</td>\n",
       "      <td>IN</td>\n",
       "      <td>clear sky</td>\n",
       "      <td>81.63</td>\n",
       "      <td>20.85</td>\n",
       "      <td>85.1</td>\n",
       "      <td>Bluebay 08 satkosia Tarava</td>\n",
       "    </tr>\n",
       "  </tbody>\n",
       "</table>\n",
       "</div>"
      ],
      "text/plain": [
       "     City_ID   City Country Weather Description  Max Temp    Lat   Lng  \\\n",
       "129      515  Angul      IN           clear sky     81.63  20.85  85.1   \n",
       "\n",
       "                     Hotel Name  \n",
       "129  Bluebay 08 satkosia Tarava  "
      ]
     },
     "execution_count": 8,
     "metadata": {},
     "output_type": "execute_result"
    }
   ],
   "source": [
    "angul_data"
   ]
  },
  {
   "cell_type": "code",
   "execution_count": 9,
   "metadata": {},
   "outputs": [],
   "source": [
    "import gmaps.datasets"
   ]
  },
  {
   "cell_type": "code",
   "execution_count": 10,
   "metadata": {},
   "outputs": [],
   "source": [
    "gmaps.configure(api_key=g_key)"
   ]
  },
  {
   "cell_type": "code",
   "execution_count": 11,
   "metadata": {},
   "outputs": [],
   "source": [
    "#yarada = yarada_data.set_index['Lat']\n",
    "#yarada.head()"
   ]
  },
  {
   "cell_type": "code",
   "execution_count": 12,
   "metadata": {},
   "outputs": [],
   "source": [
    "# Turn the Lat adn Lng into tuples\n",
    "yarada_tup = list(yarada_data[['Lat', 'Lng']].itertuples(index=False, name=None))\n",
    "narasannapeta_tup = list(narasannapeta_data[['Lat', 'Lng']].itertuples(index=False, name=None))\n",
    "tarabha_tup = list(tarabha_data[['Lat', 'Lng']].itertuples(index=False, name=None))\n",
    "angul_tup = list(angul_data[['Lat', 'Lng']].itertuples(index=False, name=None))"
   ]
  },
  {
   "cell_type": "code",
   "execution_count": 13,
   "metadata": {},
   "outputs": [
    {
     "data": {
      "application/vnd.jupyter.widget-view+json": {
       "model_id": "449a7f201b894163a656cf805341dfbc",
       "version_major": 2,
       "version_minor": 0
      },
      "text/plain": [
       "Figure(layout=FigureLayout(height='420px'))"
      ]
     },
     "metadata": {},
     "output_type": "display_data"
    }
   ],
   "source": [
    "# Create directional figure\n",
    "fig = gmaps.figure()\n",
    "yarada2angul = gmaps.directions_layer(yarada_tup[0], angul_tup[0])\n",
    "fig.add_layer(yarada2angul)\n",
    "fig"
   ]
  },
  {
   "cell_type": "code",
   "execution_count": 14,
   "metadata": {},
   "outputs": [
    {
     "data": {
      "application/vnd.jupyter.widget-view+json": {
       "model_id": "1a08df8477b24b3388248041ac984a77",
       "version_major": 2,
       "version_minor": 0
      },
      "text/plain": [
       "Figure(layout=FigureLayout(height='420px'))"
      ]
     },
     "metadata": {},
     "output_type": "display_data"
    }
   ],
   "source": [
    "# Create directional figure for all cities. \n",
    "fig = gmaps.figure()\n",
    "yarada2angul = gmaps.directions_layer(yarada_tup[0], angul_tup[0], \n",
    "                                      waypoints = [narasannapeta_tup[0], tarabha_tup[0]], \n",
    "                                      travel_mode='DRIVING')\n",
    "fig.add_layer(yarada2angul)\n",
    "fig"
   ]
  },
  {
   "cell_type": "code",
   "execution_count": 15,
   "metadata": {},
   "outputs": [
    {
     "data": {
      "text/plain": [
       "[    City_ID    City Country Weather Description  Max Temp    Lat    Lng  \\\n",
       " 97      385  Yarada      IN       broken clouds      84.2  17.65  83.27   \n",
       " \n",
       "                Hotel Name  \n",
       " 97  D-26/2, Dolphin Hill,  ,\n",
       "      City_ID           City Country Weather Description  Max Temp    Lat  \\\n",
       " 126      510  Narasannapeta      IN    scattered clouds      81.1  18.42   \n",
       " \n",
       "        Lng        Hotel Name  \n",
       " 126  84.05  G.lingaraju home  ,\n",
       "      City_ID     City Country Weather Description  Max Temp    Lat    Lng  \\\n",
       " 127      511  Tarabha      IN          few clouds     86.16  20.73  83.65   \n",
       " \n",
       "         Hotel Name  \n",
       " 127  tulapada full  ,\n",
       "      City_ID   City Country Weather Description  Max Temp    Lat   Lng  \\\n",
       " 129      515  Angul      IN           clear sky     81.63  20.85  85.1   \n",
       " \n",
       "                      Hotel Name  \n",
       " 129  Bluebay 08 satkosia Tarava  ]"
      ]
     },
     "execution_count": 15,
     "metadata": {},
     "output_type": "execute_result"
    }
   ],
   "source": [
    "four_cities = [yarada_data, narasannapeta_data, tarabha_data, angul_data]\n",
    "four_cities"
   ]
  },
  {
   "cell_type": "code",
   "execution_count": 16,
   "metadata": {},
   "outputs": [],
   "source": [
    "# Merge all the DataFrames into one.\n",
    "four_cities = pd.concat(four_cities)"
   ]
  },
  {
   "cell_type": "code",
   "execution_count": 17,
   "metadata": {},
   "outputs": [
    {
     "data": {
      "text/html": [
       "<div>\n",
       "<style scoped>\n",
       "    .dataframe tbody tr th:only-of-type {\n",
       "        vertical-align: middle;\n",
       "    }\n",
       "\n",
       "    .dataframe tbody tr th {\n",
       "        vertical-align: top;\n",
       "    }\n",
       "\n",
       "    .dataframe thead th {\n",
       "        text-align: right;\n",
       "    }\n",
       "</style>\n",
       "<table border=\"1\" class=\"dataframe\">\n",
       "  <thead>\n",
       "    <tr style=\"text-align: right;\">\n",
       "      <th></th>\n",
       "      <th>City_ID</th>\n",
       "      <th>City</th>\n",
       "      <th>Country</th>\n",
       "      <th>Weather Description</th>\n",
       "      <th>Max Temp</th>\n",
       "      <th>Lat</th>\n",
       "      <th>Lng</th>\n",
       "      <th>Hotel Name</th>\n",
       "    </tr>\n",
       "  </thead>\n",
       "  <tbody>\n",
       "    <tr>\n",
       "      <th>97</th>\n",
       "      <td>385</td>\n",
       "      <td>Yarada</td>\n",
       "      <td>IN</td>\n",
       "      <td>broken clouds</td>\n",
       "      <td>84.20</td>\n",
       "      <td>17.65</td>\n",
       "      <td>83.27</td>\n",
       "      <td>D-26/2, Dolphin Hill,</td>\n",
       "    </tr>\n",
       "    <tr>\n",
       "      <th>126</th>\n",
       "      <td>510</td>\n",
       "      <td>Narasannapeta</td>\n",
       "      <td>IN</td>\n",
       "      <td>scattered clouds</td>\n",
       "      <td>81.10</td>\n",
       "      <td>18.42</td>\n",
       "      <td>84.05</td>\n",
       "      <td>G.lingaraju home</td>\n",
       "    </tr>\n",
       "    <tr>\n",
       "      <th>127</th>\n",
       "      <td>511</td>\n",
       "      <td>Tarabha</td>\n",
       "      <td>IN</td>\n",
       "      <td>few clouds</td>\n",
       "      <td>86.16</td>\n",
       "      <td>20.73</td>\n",
       "      <td>83.65</td>\n",
       "      <td>tulapada full</td>\n",
       "    </tr>\n",
       "    <tr>\n",
       "      <th>129</th>\n",
       "      <td>515</td>\n",
       "      <td>Angul</td>\n",
       "      <td>IN</td>\n",
       "      <td>clear sky</td>\n",
       "      <td>81.63</td>\n",
       "      <td>20.85</td>\n",
       "      <td>85.10</td>\n",
       "      <td>Bluebay 08 satkosia Tarava</td>\n",
       "    </tr>\n",
       "  </tbody>\n",
       "</table>\n",
       "</div>"
      ],
      "text/plain": [
       "     City_ID           City Country Weather Description  Max Temp    Lat  \\\n",
       "97       385         Yarada      IN       broken clouds     84.20  17.65   \n",
       "126      510  Narasannapeta      IN    scattered clouds     81.10  18.42   \n",
       "127      511        Tarabha      IN          few clouds     86.16  20.73   \n",
       "129      515          Angul      IN           clear sky     81.63  20.85   \n",
       "\n",
       "       Lng                  Hotel Name  \n",
       "97   83.27       D-26/2, Dolphin Hill,  \n",
       "126  84.05            G.lingaraju home  \n",
       "127  83.65               tulapada full  \n",
       "129  85.10  Bluebay 08 satkosia Tarava  "
      ]
     },
     "execution_count": 17,
     "metadata": {},
     "output_type": "execute_result"
    }
   ],
   "source": [
    "four_cities"
   ]
  },
  {
   "cell_type": "code",
   "execution_count": 18,
   "metadata": {},
   "outputs": [],
   "source": [
    "# Tell Google what we want to show in the marker\n",
    "info_box_template = \"\"\"\n",
    "<dl>\n",
    "<dt>Hotel Name</dt><dd>{Hotel Name}</dd>\n",
    "<dt>City</dt><dd>{City}</dd>\n",
    "<dt>Country</dt><dd>{Country}</dd>\n",
    "<dt>Current Weather</dt><dd>{Weather Description} and {Max Temp}</dd>\n",
    "</dl>\n",
    "\"\"\"\n",
    "\n",
    "# Store the DataFrame Row.\n",
    "city_info = [info_box_template.format(**row) for index, row in four_cities.iterrows()]"
   ]
  },
  {
   "cell_type": "code",
   "execution_count": 19,
   "metadata": {},
   "outputs": [
    {
     "data": {
      "application/vnd.jupyter.widget-view+json": {
       "model_id": "a6b2bc1e059b477bae68e33af26fe380",
       "version_major": 2,
       "version_minor": 0
      },
      "text/plain": [
       "Figure(layout=FigureLayout(height='420px'))"
      ]
     },
     "metadata": {},
     "output_type": "display_data"
    }
   ],
   "source": [
    "# Add markers for each city the traveler will be going to. \n",
    "locations = four_cities[[\"Lat\", \"Lng\"]]\n",
    "fig = gmaps.figure(center=(19.5, 84.5), zoom_level=7)\n",
    "marker_layer = gmaps.marker_layer(locations, info_box_content=city_info)\n",
    "\n",
    "fig.add_layer(marker_layer)\n",
    "\n",
    "# Call the figure to plot the data.\n",
    "fig"
   ]
  },
  {
   "cell_type": "code",
   "execution_count": null,
   "metadata": {},
   "outputs": [],
   "source": []
  }
 ],
 "metadata": {
  "kernelspec": {
   "display_name": "PythonData",
   "language": "python",
   "name": "pythondata"
  },
  "language_info": {
   "codemirror_mode": {
    "name": "ipython",
    "version": 3
   },
   "file_extension": ".py",
   "mimetype": "text/x-python",
   "name": "python",
   "nbconvert_exporter": "python",
   "pygments_lexer": "ipython3",
   "version": "3.7.7"
  }
 },
 "nbformat": 4,
 "nbformat_minor": 4
}
